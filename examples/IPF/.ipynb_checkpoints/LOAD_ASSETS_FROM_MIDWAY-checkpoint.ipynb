{
 "cells": [
  {
   "cell_type": "code",
   "execution_count": 1,
   "id": "6ce96c66-ec86-4a94-b355-c4fabf26e820",
   "metadata": {},
   "outputs": [],
   "source": [
    "import os\n",
    "import sys\n",
    "import shutil\n",
    "import pandas as pd\n",
    "import numpy as np"
   ]
  },
  {
   "cell_type": "code",
   "execution_count": 2,
   "id": "62883c2e-1fbc-4179-b3fd-88f81141fd82",
   "metadata": {},
   "outputs": [],
   "source": [
    "R = \"/project2/ishanu/DMYTRO/QNET/DIGITAL_TWINS\""
   ]
  },
  {
   "cell_type": "markdown",
   "id": "2e4116ee-1ff2-4bd3-8942-cf47dd21de10",
   "metadata": {},
   "source": [
    "## **Load models and training data**"
   ]
  },
  {
   "cell_type": "code",
   "execution_count": 4,
   "id": "1a14fa30-37ea-4af0-b907-e3c4aa45c803",
   "metadata": {},
   "outputs": [
    {
     "name": "stdout",
     "output_type": "stream",
     "text": [
      "IPF_POS_JUNE24_EXT2\n",
      "IPF_POSNEG_JUNE24_EXT2\n"
     ]
    }
   ],
   "source": [
    "F = \"QNETS\"\n",
    "os.makedirs(F, exist_ok = True)\n",
    "\n",
    "rename_dict = {\n",
    "    \"IPF_POS_JUNE24_EXT2\": \"POS\", \n",
    "    \"IPF_POSNEG_JUNE24_EXT2\": \"POSNEG\"\n",
    "}\n",
    "\n",
    "for MODEL in [\n",
    "    'IPF_POS_JUNE24_EXT2',\n",
    "    'IPF_POSNEG_JUNE24_EXT2']:\n",
    "    print(MODEL)\n",
    "    shutil.copy(\n",
    "        f\"{R}/QNETS/{MODEL}.joblib.gz\",\n",
    "        f\"{F}/{rename_dict[MODEL]}.joblib.gz\"\n",
    "    )\n",
    "    shutil.copy(\n",
    "        f\"{R}/QNETS/{MODEL}.csv\",\n",
    "        f\"{F}/{rename_dict[MODEL]}.csv\"\n",
    "    )"
   ]
  },
  {
   "cell_type": "code",
   "execution_count": 5,
   "id": "2d61fee3-b7f2-48e5-94e7-78c317543f62",
   "metadata": {},
   "outputs": [],
   "source": [
    "F = \"TASK_ASSETS\"\n",
    "os.makedirs(F, exist_ok = True)"
   ]
  },
  {
   "cell_type": "markdown",
   "id": "7550364f-83a0-401c-96ba-9608f89c081a",
   "metadata": {},
   "source": [
    "# **Task 1**"
   ]
  },
  {
   "cell_type": "code",
   "execution_count": 6,
   "id": "e49400b8-9e0f-44e2-a36f-4e611ec0eb1f",
   "metadata": {},
   "outputs": [],
   "source": [
    "TASK_FOLDER = f\"{F}/TASK1\"\n",
    "os.makedirs(TASK_FOLDER, exist_ok = 1)"
   ]
  },
  {
   "cell_type": "code",
   "execution_count": 11,
   "id": "08543e02-95a0-4b8b-a5da-0613a08d9b91",
   "metadata": {},
   "outputs": [
    {
     "data": {
      "text/plain": [
       "'TASK_ASSETS/TASK1/CODE_PREVALENCES.csv'"
      ]
     },
     "execution_count": 11,
     "metadata": {},
     "output_type": "execute_result"
    }
   ],
   "source": [
    "\"\"\"\n",
    "    LOAD DATA\n",
    "\"\"\"\n",
    "SOURCE_FOLDER = \"/project2/ishanu/DMYTRO/QNET/DIGITAL_TWINS/RESULTS/IPF2/QSAMPLING/INSPAN_RESTORATION\"\n",
    "\n",
    "\"\"\"shutil.copy(\n",
    "    f\"{SOURCE_FOLDER}/USED_DATA.csv\",\n",
    "    f\"{TASK_FOLDER}/ORIGINAL_PATIENTS.csv\"\n",
    ")\n",
    "\n",
    "shutil.copy(\n",
    "    f\"{SOURCE_FOLDER}/MASKED_DFS/MF035QS100.csv\",\n",
    "    f\"{TASK_FOLDER}/MASKED_PATIENTS.csv\"\n",
    ")\n",
    "\n",
    "shutil.copy(\n",
    "    f\"{SOURCE_FOLDER}/RESTORED_DFS/MF035QS100.csv\",\n",
    "    f\"{TASK_FOLDER}/RESTORED_PATIENTS.csv\"\n",
    ")\"\"\"\n",
    "\n",
    "\n",
    "\"\"\"\n",
    "    QDISTANCES\n",
    "\"\"\"\n",
    "shutil.copy(\n",
    "    f\"{SOURCE_FOLDER}/qdistances.csv\",\n",
    "    f\"{TASK_FOLDER}/QDISTANCES.csv\"\n",
    ")\n",
    "\n",
    "\"\"\"\n",
    "    CODE PREVALENCES\n",
    "\"\"\"\n",
    "shutil.copy(\n",
    "    f\"{SOURCE_FOLDER}/CODE_PREVALS_MF035QS100.csv\",\n",
    "    f\"{TASK_FOLDER}/CODE_PREVALENCES.csv\"\n",
    ")"
   ]
  },
  {
   "cell_type": "markdown",
   "id": "36e0946e-85b2-478e-8b42-60bdae683490",
   "metadata": {},
   "source": [
    "# **Task 2**"
   ]
  },
  {
   "cell_type": "code",
   "execution_count": 12,
   "id": "9233d159-b908-4973-b948-e56e21103c36",
   "metadata": {},
   "outputs": [],
   "source": [
    "TASK_FOLDER = f\"{F}/TASK2\"\n",
    "os.makedirs(TASK_FOLDER, exist_ok = 1)"
   ]
  },
  {
   "cell_type": "code",
   "execution_count": 13,
   "id": "5cf910f4-8709-40ee-81a9-85a1baa36dfc",
   "metadata": {},
   "outputs": [
    {
     "data": {
      "text/plain": [
       "'TASK_ASSETS/TASK2/CODE_PREVALENCES.csv'"
      ]
     },
     "execution_count": 13,
     "metadata": {},
     "output_type": "execute_result"
    }
   ],
   "source": [
    "\"\"\"\n",
    "    LOAD DATA\n",
    "\"\"\"\n",
    "SOURCE_FOLDER = \"/project2/ishanu/DMYTRO/QNET/DIGITAL_TWINS/RESULTS/IPF2/QSAMPLING/SPAN_EXTRAPOLATION\"\n",
    "\n",
    "\"\"\"shutil.copy(\n",
    "    f\"{SOURCE_FOLDER}/USED_DATA.csv\",\n",
    "    f\"{TASK_FOLDER}/ORIGINAL_PATIENTS.csv\"\n",
    ")\n",
    "\n",
    "shutil.copy(\n",
    "    f\"{SOURCE_FOLDER}/MASKED_DFS/QS100.csv\",\n",
    "    f\"{TASK_FOLDER}/MASKED_PATIENTS.csv\"\n",
    ")\n",
    "\n",
    "shutil.copy(\n",
    "    f\"{SOURCE_FOLDER}/RESTORED_DFS/QS100.csv\",\n",
    "    f\"{TASK_FOLDER}/RESTORED_PATIENTS.csv\"\n",
    ")\"\"\"\n",
    "\n",
    "\n",
    "\"\"\"\n",
    "    QDISTANCES\n",
    "\"\"\"\n",
    "shutil.copy(\n",
    "    f\"{SOURCE_FOLDER}/qdistances.csv\",\n",
    "    f\"{TASK_FOLDER}/QDISTANCES.csv\"\n",
    ")\n",
    "\n",
    "\"\"\"\n",
    "    CODE PREVALENCES\n",
    "\"\"\"\n",
    "shutil.copy(\n",
    "    f\"{SOURCE_FOLDER}/CODE_PREVALS_QS100.csv\",\n",
    "    f\"{TASK_FOLDER}/CODE_PREVALENCES.csv\"\n",
    ")"
   ]
  },
  {
   "cell_type": "markdown",
   "id": "aec5b8e2-2873-44ab-873f-9ea4eb869f9f",
   "metadata": {},
   "source": [
    "# **Task 3**"
   ]
  },
  {
   "cell_type": "code",
   "execution_count": 14,
   "id": "b362f214-fe13-4384-8703-652e99eceef5",
   "metadata": {},
   "outputs": [],
   "source": [
    "TASK_FOLDER = f\"{F}/TASK3\"\n",
    "os.makedirs(TASK_FOLDER, exist_ok = 1)"
   ]
  },
  {
   "cell_type": "code",
   "execution_count": 15,
   "id": "4b8cd6c8-1246-401e-bfde-8a6f284690b1",
   "metadata": {},
   "outputs": [
    {
     "data": {
      "text/plain": [
       "'TASK_ASSETS/TASK3/BASE_CURVES.pkl'"
      ]
     },
     "execution_count": 15,
     "metadata": {},
     "output_type": "execute_result"
    }
   ],
   "source": [
    "SOURCE_FOLDER = \"/project2/ishanu/DMYTRO/QNET/DIGITAL_TWINS/RESULTS/IPF/ANTIFIBROTICS\"\n",
    "\"\"\"\n",
    "    BASE CURVES\n",
    "\"\"\"\n",
    "shutil.copy(\n",
    "    f\"{SOURCE_FOLDER}/BASE_CURVES.pkl\",\n",
    "    f\"{TASK_FOLDER}/BASE_CURVES.pkl\"\n",
    ")"
   ]
  },
  {
   "cell_type": "code",
   "execution_count": null,
   "id": "825986f2-d4ed-46d7-a265-792fa099c754",
   "metadata": {},
   "outputs": [],
   "source": []
  }
 ],
 "metadata": {
  "kernelspec": {
   "display_name": "Ariadne",
   "language": "python",
   "name": "ariadne"
  },
  "language_info": {
   "codemirror_mode": {
    "name": "ipython",
    "version": 3
   },
   "file_extension": ".py",
   "mimetype": "text/x-python",
   "name": "python",
   "nbconvert_exporter": "python",
   "pygments_lexer": "ipython3",
   "version": "3.9.16"
  }
 },
 "nbformat": 4,
 "nbformat_minor": 5
}
