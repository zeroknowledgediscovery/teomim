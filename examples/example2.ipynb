{
 "cells": [
  {
   "cell_type": "code",
   "execution_count": 1,
   "id": "f7fd8d1c",
   "metadata": {},
   "outputs": [],
   "source": [
    "from phantompatient import phantompatient\n",
    "P=phantompatient(modelpath='./twin_models/FULL_QNET.joblib',\n",
    "                 gz=False,outfile='out1.csv',num_patients=10000)\n",
    "\n",
    "P.load('output.csv')"
   ]
  },
  {
   "cell_type": "code",
   "execution_count": 2,
   "id": "adc2e07e",
   "metadata": {},
   "outputs": [],
   "source": [
    "#%%time\n",
    "#P.generate()"
   ]
  },
  {
   "cell_type": "code",
   "execution_count": 3,
   "id": "dabb70c5",
   "metadata": {},
   "outputs": [
    {
     "name": "stdout",
     "output_type": "stream",
     "text": [
      "     prevalences prevalence_expected\n",
      "I10         0.00                 0.7\n",
      "I25         0.45                 0.4\n",
      "I50         0.00                0.25\n",
      "E11         1.00                0.46\n",
      "E66         1.00                 0.3\n",
      "I63         0.00                 0.4\n",
      "G20         0.00                0.15\n",
      "F32         0.00                 0.5\n",
      "F41         0.00                 0.4\n",
      "M81         0.00                0.25\n",
      "J44         0.00                0.55\n",
      "J84         0.00               0.005\n"
     ]
    }
   ],
   "source": [
    "ef=P.evaluate()\n",
    "print(ef)"
   ]
  },
  {
   "cell_type": "code",
   "execution_count": 4,
   "id": "d70557db",
   "metadata": {},
   "outputs": [
    {
     "name": "stdout",
     "output_type": "stream",
     "text": [
      "50.46\n"
     ]
    }
   ],
   "source": [
    "print(P.quality())"
   ]
  },
  {
   "cell_type": "code",
   "execution_count": null,
   "id": "d8ef6a4a",
   "metadata": {},
   "outputs": [],
   "source": []
  }
 ],
 "metadata": {
  "kernelspec": {
   "display_name": "Python 3 (ipykernel)",
   "language": "python",
   "name": "python3"
  },
  "language_info": {
   "codemirror_mode": {
    "name": "ipython",
    "version": 3
   },
   "file_extension": ".py",
   "mimetype": "text/x-python",
   "name": "python",
   "nbconvert_exporter": "python",
   "pygments_lexer": "ipython3",
   "version": "3.10.8"
  }
 },
 "nbformat": 4,
 "nbformat_minor": 5
}
