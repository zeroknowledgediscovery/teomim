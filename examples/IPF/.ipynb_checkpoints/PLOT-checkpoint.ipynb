{
 "cells": [
  {
   "cell_type": "code",
   "execution_count": 1,
   "id": "1b79b3aa-d7fc-437f-89c2-50022c54d197",
   "metadata": {},
   "outputs": [],
   "source": [
    "import os\n",
    "import sys\n",
    "import pickle\n",
    "\n",
    "import warnings\n",
    "warnings.simplefilter('ignore')\n",
    "\n",
    "\n",
    "import pandas as pd\n",
    "pd.set_option('display.max_columns', None)\n",
    "import numpy as np\n",
    "import scipy as sp\n",
    "\n",
    "import matplotlib.pyplot as plt\n",
    "import seaborn as sns\n",
    "%matplotlib inline\n",
    "\n",
    "from sklearn.metrics import roc_curve, roc_auc_score\n",
    "\n",
    "%load_ext autoreload\n",
    "%autoreload 2"
   ]
  },
  {
   "cell_type": "code",
   "execution_count": 29,
   "id": "0de65752-b92b-44e0-a5e9-c9cb3f95962f",
   "metadata": {},
   "outputs": [],
   "source": [
    "from zedstat import zedstat"
   ]
  },
  {
   "cell_type": "code",
   "execution_count": 2,
   "id": "1420b149-7c09-4663-899a-408d149fccce",
   "metadata": {},
   "outputs": [],
   "source": [
    "F = \"TASK_PLOTS\"\n",
    "os.makedirs(F, exist_ok = True)"
   ]
  },
  {
   "cell_type": "markdown",
   "id": "ccd77727-a2ed-4e3a-865a-a520be5d255e",
   "metadata": {},
   "source": [
    "# **Task 1**"
   ]
  },
  {
   "cell_type": "code",
   "execution_count": 3,
   "id": "5baf749c-60e2-480a-8512-c503ab3d1fae",
   "metadata": {},
   "outputs": [],
   "source": [
    "TASK_FOLDER = \"TASK_ASSETS/TASK1\"\n",
    "TASK_PLOTS_FOLDER = f\"{F}/TASK1\"\n",
    "os.makedirs(TASK_PLOTS_FOLDER, exist_ok = True)"
   ]
  },
  {
   "cell_type": "markdown",
   "id": "25063bb5-5461-445b-b422-3f97c4c4fa97",
   "metadata": {},
   "source": [
    "### **QDistances**"
   ]
  },
  {
   "cell_type": "code",
   "execution_count": 4,
   "id": "5ae7d605-c55b-4746-bca0-1c5598867656",
   "metadata": {},
   "outputs": [
    {
     "data": {
      "text/html": [
       "<div>\n",
       "<style scoped>\n",
       "    .dataframe tbody tr th:only-of-type {\n",
       "        vertical-align: middle;\n",
       "    }\n",
       "\n",
       "    .dataframe tbody tr th {\n",
       "        vertical-align: top;\n",
       "    }\n",
       "\n",
       "    .dataframe thead th {\n",
       "        text-align: right;\n",
       "    }\n",
       "</style>\n",
       "<table border=\"1\" class=\"dataframe\">\n",
       "  <thead>\n",
       "    <tr style=\"text-align: right;\">\n",
       "      <th></th>\n",
       "      <th>patient</th>\n",
       "      <th>MASKING_FRACTION</th>\n",
       "      <th>QSTEPS_PER_MASKED_COL</th>\n",
       "      <th>orig_to_masked</th>\n",
       "      <th>orig_to_restored</th>\n",
       "      <th>restored_masked_dist_ratio</th>\n",
       "    </tr>\n",
       "  </thead>\n",
       "  <tbody>\n",
       "    <tr>\n",
       "      <th>0</th>\n",
       "      <td>0</td>\n",
       "      <td>0.35</td>\n",
       "      <td>100</td>\n",
       "      <td>0.002696</td>\n",
       "      <td>0.000174</td>\n",
       "      <td>0.064419</td>\n",
       "    </tr>\n",
       "    <tr>\n",
       "      <th>1</th>\n",
       "      <td>1</td>\n",
       "      <td>0.35</td>\n",
       "      <td>100</td>\n",
       "      <td>0.003078</td>\n",
       "      <td>0.000113</td>\n",
       "      <td>0.036850</td>\n",
       "    </tr>\n",
       "    <tr>\n",
       "      <th>2</th>\n",
       "      <td>2</td>\n",
       "      <td>0.35</td>\n",
       "      <td>100</td>\n",
       "      <td>0.003727</td>\n",
       "      <td>0.000229</td>\n",
       "      <td>0.061334</td>\n",
       "    </tr>\n",
       "    <tr>\n",
       "      <th>3</th>\n",
       "      <td>3</td>\n",
       "      <td>0.35</td>\n",
       "      <td>100</td>\n",
       "      <td>0.003159</td>\n",
       "      <td>0.000229</td>\n",
       "      <td>0.072345</td>\n",
       "    </tr>\n",
       "  </tbody>\n",
       "</table>\n",
       "</div>"
      ],
      "text/plain": [
       "   patient  MASKING_FRACTION  QSTEPS_PER_MASKED_COL  orig_to_masked  \\\n",
       "0        0              0.35                    100        0.002696   \n",
       "1        1              0.35                    100        0.003078   \n",
       "2        2              0.35                    100        0.003727   \n",
       "3        3              0.35                    100        0.003159   \n",
       "\n",
       "   orig_to_restored  restored_masked_dist_ratio  \n",
       "0          0.000174                    0.064419  \n",
       "1          0.000113                    0.036850  \n",
       "2          0.000229                    0.061334  \n",
       "3          0.000229                    0.072345  "
      ]
     },
     "execution_count": 4,
     "metadata": {},
     "output_type": "execute_result"
    }
   ],
   "source": [
    "qdistances = pd.read_csv(f\"{TASK_FOLDER}/QDISTANCES.csv\")\n",
    "qdistances.head(4)"
   ]
  },
  {
   "cell_type": "code",
   "execution_count": 5,
   "id": "e901d477-c956-4c58-b702-54dd35a17bb2",
   "metadata": {},
   "outputs": [
    {
     "name": "stderr",
     "output_type": "stream",
     "text": [
      "No artists with labels found to put in legend.  Note that artists whose label start with an underscore are ignored when legend() is called with no argument.\n"
     ]
    },
    {
     "data": {
      "image/png": "[encoded data removed]",
      "text/plain": [
       "<Figure size 720x216 with 1 Axes>"
      ]
     },
     "metadata": {
      "needs_background": "light"
     },
     "output_type": "display_data"
    }
   ],
   "source": [
    "FIGSIZE = (10,3)\n",
    "\n",
    "plt.figure(figsize = FIGSIZE)\n",
    "\n",
    "sns.distplot(\n",
    "    qdistances['restored_masked_dist_ratio'], \n",
    "    color = 'k'\n",
    ")\n",
    "\n",
    "plt.grid()\n",
    "plt.legend()\n",
    "plt.title(f\"Distances: (original<->restored)/(original<->masked)\")\n",
    "\n",
    "plt.savefig(\n",
    "    f\"{TASK_PLOTS_FOLDER}/QDISTANCES.png\", \n",
    "    bbox_inches = \"tight\", dpi = 300\n",
    ")\n",
    "plt.show()"
   ]
  },
  {
   "cell_type": "markdown",
   "id": "0fd4a3b2-e76e-41e8-ba88-cce8e97ae1ec",
   "metadata": {},
   "source": [
    "### **Code prevalences in whole records**"
   ]
  },
  {
   "cell_type": "code",
   "execution_count": 12,
   "id": "8eb22b92-6838-4529-abf8-384f985d363c",
   "metadata": {},
   "outputs": [],
   "source": [
    "CODE_PREVALS = pd.read_csv(\n",
    "    f\"{TASK_FOLDER}/CODE_PREVALENCES.csv\"\n",
    ")"
   ]
  },
  {
   "cell_type": "code",
   "execution_count": 13,
   "id": "c5ca1e71-ab73-4295-af44-817049c83613",
   "metadata": {},
   "outputs": [
    {
     "data": {
      "text/html": [
       "<div>\n",
       "<style scoped>\n",
       "    .dataframe tbody tr th:only-of-type {\n",
       "        vertical-align: middle;\n",
       "    }\n",
       "\n",
       "    .dataframe tbody tr th {\n",
       "        vertical-align: top;\n",
       "    }\n",
       "\n",
       "    .dataframe thead th {\n",
       "        text-align: right;\n",
       "    }\n",
       "</style>\n",
       "<table border=\"1\" class=\"dataframe\">\n",
       "  <thead>\n",
       "    <tr style=\"text-align: right;\">\n",
       "      <th></th>\n",
       "      <th>code</th>\n",
       "      <th>preval_original</th>\n",
       "      <th>preval_restored</th>\n",
       "    </tr>\n",
       "  </thead>\n",
       "  <tbody>\n",
       "    <tr>\n",
       "      <th>356</th>\n",
       "      <td>N81</td>\n",
       "      <td>0.026</td>\n",
       "      <td>0.028</td>\n",
       "    </tr>\n",
       "    <tr>\n",
       "      <th>294</th>\n",
       "      <td>H00</td>\n",
       "      <td>0.034</td>\n",
       "      <td>0.032</td>\n",
       "    </tr>\n",
       "    <tr>\n",
       "      <th>295</th>\n",
       "      <td>R45</td>\n",
       "      <td>0.034</td>\n",
       "      <td>0.036</td>\n",
       "    </tr>\n",
       "  </tbody>\n",
       "</table>\n",
       "</div>"
      ],
      "text/plain": [
       "    code  preval_original  preval_restored\n",
       "356  N81            0.026            0.028\n",
       "294  H00            0.034            0.032\n",
       "295  R45            0.034            0.036"
      ]
     },
     "execution_count": 13,
     "metadata": {},
     "output_type": "execute_result"
    }
   ],
   "source": [
    "CODE_PREVALS.sample(3)"
   ]
  },
  {
   "cell_type": "code",
   "execution_count": 11,
   "id": "6e6b2cc4-8664-4bd9-98a1-307fc36c854c",
   "metadata": {},
   "outputs": [
    {
     "data": {
      "text/html": [
       "<div>\n",
       "<style scoped>\n",
       "    .dataframe tbody tr th:only-of-type {\n",
       "        vertical-align: middle;\n",
       "    }\n",
       "\n",
       "    .dataframe tbody tr th {\n",
       "        vertical-align: top;\n",
       "    }\n",
       "\n",
       "    .dataframe thead th {\n",
       "        text-align: right;\n",
       "    }\n",
       "</style>\n",
       "<table border=\"1\" class=\"dataframe\">\n",
       "  <thead>\n",
       "    <tr style=\"text-align: right;\">\n",
       "      <th></th>\n",
       "      <th>code</th>\n",
       "      <th>Condition</th>\n",
       "      <th>Prevalence</th>\n",
       "    </tr>\n",
       "  </thead>\n",
       "  <tbody>\n",
       "    <tr>\n",
       "      <th>0</th>\n",
       "      <td>E78</td>\n",
       "      <td>preval_original</td>\n",
       "      <td>0.722</td>\n",
       "    </tr>\n",
       "    <tr>\n",
       "      <th>1</th>\n",
       "      <td>I10</td>\n",
       "      <td>preval_original</td>\n",
       "      <td>0.682</td>\n",
       "    </tr>\n",
       "    <tr>\n",
       "      <th>2</th>\n",
       "      <td>Z12</td>\n",
       "      <td>preval_original</td>\n",
       "      <td>0.584</td>\n",
       "    </tr>\n",
       "    <tr>\n",
       "      <th>3</th>\n",
       "      <td>Z23</td>\n",
       "      <td>preval_original</td>\n",
       "      <td>0.524</td>\n",
       "    </tr>\n",
       "    <tr>\n",
       "      <th>4</th>\n",
       "      <td>M25</td>\n",
       "      <td>preval_original</td>\n",
       "      <td>0.554</td>\n",
       "    </tr>\n",
       "    <tr>\n",
       "      <th>...</th>\n",
       "      <td>...</td>\n",
       "      <td>...</td>\n",
       "      <td>...</td>\n",
       "    </tr>\n",
       "    <tr>\n",
       "      <th>95</th>\n",
       "      <td>I49</td>\n",
       "      <td>preval_restored</td>\n",
       "      <td>0.210</td>\n",
       "    </tr>\n",
       "    <tr>\n",
       "      <th>96</th>\n",
       "      <td>R00</td>\n",
       "      <td>preval_restored</td>\n",
       "      <td>0.200</td>\n",
       "    </tr>\n",
       "    <tr>\n",
       "      <th>97</th>\n",
       "      <td>E03</td>\n",
       "      <td>preval_restored</td>\n",
       "      <td>0.212</td>\n",
       "    </tr>\n",
       "    <tr>\n",
       "      <th>98</th>\n",
       "      <td>R42</td>\n",
       "      <td>preval_restored</td>\n",
       "      <td>0.166</td>\n",
       "    </tr>\n",
       "    <tr>\n",
       "      <th>99</th>\n",
       "      <td>M17</td>\n",
       "      <td>preval_restored</td>\n",
       "      <td>0.204</td>\n",
       "    </tr>\n",
       "  </tbody>\n",
       "</table>\n",
       "<p>100 rows × 3 columns</p>\n",
       "</div>"
      ],
      "text/plain": [
       "   code        Condition  Prevalence\n",
       "0   E78  preval_original       0.722\n",
       "1   I10  preval_original       0.682\n",
       "2   Z12  preval_original       0.584\n",
       "3   Z23  preval_original       0.524\n",
       "4   M25  preval_original       0.554\n",
       "..  ...              ...         ...\n",
       "95  I49  preval_restored       0.210\n",
       "96  R00  preval_restored       0.200\n",
       "97  E03  preval_restored       0.212\n",
       "98  R42  preval_restored       0.166\n",
       "99  M17  preval_restored       0.204\n",
       "\n",
       "[100 rows x 3 columns]"
      ]
     },
     "execution_count": 11,
     "metadata": {},
     "output_type": "execute_result"
    }
   ],
   "source": [
    "df_melted = CODE_PREVALS.head(N_TOP_TO_PLOT).melt(\n",
    "    id_vars='code', \n",
    "    value_vars=['preval_original', 'preval_restored'],\n",
    "    var_name='Condition', value_name='Prevalence'\n",
    ")\n",
    "df_melted"
   ]
  },
  {
   "cell_type": "code",
   "execution_count": 18,
   "id": "562f989c-9119-47af-b558-1e4fc86861ee",
   "metadata": {},
   "outputs": [
    {
     "data": {
      "image/png": "[encoded data removed]",
      "text/plain": [
       "<Figure size 432x720 with 1 Axes>"
      ]
     },
     "metadata": {
      "needs_background": "light"
     },
     "output_type": "display_data"
    }
   ],
   "source": [
    "N_TOP_TO_PLOT = 50\n",
    "FIGSIZE = (6,10)\n",
    "\n",
    "\n",
    "plot_rename = {\n",
    "    'preval_original': 'Original',\n",
    "    'preval_restored': 'Restored'\n",
    "}\n",
    "\n",
    "\n",
    "df_melted = CODE_PREVALS.rename(columns = plot_rename).head(N_TOP_TO_PLOT).melt(\n",
    "    id_vars='code', \n",
    "    value_vars=['Original', 'Restored'],\n",
    "    var_name='Data source', value_name='Prevalence'\n",
    ")\n",
    "\n",
    "# Plot\n",
    "plt.figure(figsize=FIGSIZE)\n",
    "sns.barplot(data=df_melted, \n",
    "            y='code', x='Prevalence', \n",
    "            hue='Data source')\n",
    "\n",
    "# Add labels and title\n",
    "plt.ylabel('Code')\n",
    "plt.xlabel('Prevalence')\n",
    "plt.title(f'Code Prevalences')\n",
    "plt.legend()\n",
    "\n",
    "# Show the plot\n",
    "plt.savefig(\n",
    "    f\"{TASK_PLOTS_FOLDER}/CODE_PREVALENCES.png\", \n",
    "    bbox_inches = \"tight\", dpi = 300\n",
    ")\n",
    "plt.show()"
   ]
  },
  {
   "cell_type": "markdown",
   "id": "197858be-27ca-4da7-b5fd-e38ff8de8527",
   "metadata": {},
   "source": [
    "# **Task 2**"
   ]
  },
  {
   "cell_type": "code",
   "execution_count": 20,
   "id": "4e6c53c3-b277-48ca-9c24-7cbd83660ed5",
   "metadata": {},
   "outputs": [],
   "source": [
    "TASK_FOLDER = \"TASK_ASSETS/TASK2\"\n",
    "TASK_PLOTS_FOLDER = f\"{F}/TASK2\"\n",
    "os.makedirs(TASK_PLOTS_FOLDER, exist_ok = True)"
   ]
  },
  {
   "cell_type": "markdown",
   "id": "16c4e62e-21e2-469d-ba61-bfe14c108c50",
   "metadata": {},
   "source": [
    "### **QDistances**"
   ]
  },
  {
   "cell_type": "code",
   "execution_count": 21,
   "id": "6c08877e-8a6e-4a3d-a63f-4de5843d48e3",
   "metadata": {},
   "outputs": [
    {
     "data": {
      "text/html": [
       "<div>\n",
       "<style scoped>\n",
       "    .dataframe tbody tr th:only-of-type {\n",
       "        vertical-align: middle;\n",
       "    }\n",
       "\n",
       "    .dataframe tbody tr th {\n",
       "        vertical-align: top;\n",
       "    }\n",
       "\n",
       "    .dataframe thead th {\n",
       "        text-align: right;\n",
       "    }\n",
       "</style>\n",
       "<table border=\"1\" class=\"dataframe\">\n",
       "  <thead>\n",
       "    <tr style=\"text-align: right;\">\n",
       "      <th></th>\n",
       "      <th>patient</th>\n",
       "      <th>QSTEPS_PER_MASKED_COL</th>\n",
       "      <th>orig_to_masked</th>\n",
       "      <th>orig_to_restored</th>\n",
       "      <th>restored_masked_dist_ratio</th>\n",
       "    </tr>\n",
       "  </thead>\n",
       "  <tbody>\n",
       "    <tr>\n",
       "      <th>0</th>\n",
       "      <td>0</td>\n",
       "      <td>100</td>\n",
       "      <td>0.002591</td>\n",
       "      <td>0.000094</td>\n",
       "      <td>0.036099</td>\n",
       "    </tr>\n",
       "    <tr>\n",
       "      <th>1</th>\n",
       "      <td>1</td>\n",
       "      <td>100</td>\n",
       "      <td>0.003087</td>\n",
       "      <td>0.000172</td>\n",
       "      <td>0.055740</td>\n",
       "    </tr>\n",
       "    <tr>\n",
       "      <th>2</th>\n",
       "      <td>2</td>\n",
       "      <td>100</td>\n",
       "      <td>0.002505</td>\n",
       "      <td>0.000098</td>\n",
       "      <td>0.038961</td>\n",
       "    </tr>\n",
       "    <tr>\n",
       "      <th>3</th>\n",
       "      <td>3</td>\n",
       "      <td>100</td>\n",
       "      <td>0.003466</td>\n",
       "      <td>0.000370</td>\n",
       "      <td>0.106723</td>\n",
       "    </tr>\n",
       "  </tbody>\n",
       "</table>\n",
       "</div>"
      ],
      "text/plain": [
       "   patient  QSTEPS_PER_MASKED_COL  orig_to_masked  orig_to_restored  \\\n",
       "0        0                    100        0.002591          0.000094   \n",
       "1        1                    100        0.003087          0.000172   \n",
       "2        2                    100        0.002505          0.000098   \n",
       "3        3                    100        0.003466          0.000370   \n",
       "\n",
       "   restored_masked_dist_ratio  \n",
       "0                    0.036099  \n",
       "1                    0.055740  \n",
       "2                    0.038961  \n",
       "3                    0.106723  "
      ]
     },
     "execution_count": 21,
     "metadata": {},
     "output_type": "execute_result"
    }
   ],
   "source": [
    "qdistances = pd.read_csv(f\"{TASK_FOLDER}/QDISTANCES.csv\")\n",
    "qdistances.head(4)"
   ]
  },
  {
   "cell_type": "code",
   "execution_count": 22,
   "id": "e988c682-8a8b-44c7-b06c-25d0383713cc",
   "metadata": {},
   "outputs": [
    {
     "name": "stderr",
     "output_type": "stream",
     "text": [
      "No artists with labels found to put in legend.  Note that artists whose label start with an underscore are ignored when legend() is called with no argument.\n"
     ]
    },
    {
     "data": {
      "image/png": "[encoded data removed]",
      "text/plain": [
       "<Figure size 720x216 with 1 Axes>"
      ]
     },
     "metadata": {
      "needs_background": "light"
     },
     "output_type": "display_data"
    }
   ],
   "source": [
    "FIGSIZE = (10,3)\n",
    "\n",
    "plt.figure(figsize = FIGSIZE)\n",
    "\n",
    "sns.distplot(\n",
    "    qdistances['restored_masked_dist_ratio'], \n",
    "    color = 'k'\n",
    ")\n",
    "\n",
    "plt.grid()\n",
    "plt.legend()\n",
    "plt.title(f\"Distances: (original<->restored)/(original<->masked)\")\n",
    "\n",
    "plt.savefig(\n",
    "    f\"{TASK_PLOTS_FOLDER}/QDISTANCES.png\", \n",
    "    bbox_inches = \"tight\", dpi = 300\n",
    ")\n",
    "plt.show()"
   ]
  },
  {
   "cell_type": "markdown",
   "id": "3481b93b-57ef-4dfa-a63b-6e84c4560bc4",
   "metadata": {},
   "source": [
    "### **Code prevalences in whole records**"
   ]
  },
  {
   "cell_type": "code",
   "execution_count": 23,
   "id": "56dc8a94-f267-42d0-b8a5-3bef97f27667",
   "metadata": {},
   "outputs": [],
   "source": [
    "CODE_PREVALS = pd.read_csv(\n",
    "    f\"{TASK_FOLDER}/CODE_PREVALENCES.csv\"\n",
    ")"
   ]
  },
  {
   "cell_type": "code",
   "execution_count": 24,
   "id": "ae8ec4bc-3908-493b-92a3-8866dafac31e",
   "metadata": {},
   "outputs": [
    {
     "data": {
      "text/html": [
       "<div>\n",
       "<style scoped>\n",
       "    .dataframe tbody tr th:only-of-type {\n",
       "        vertical-align: middle;\n",
       "    }\n",
       "\n",
       "    .dataframe tbody tr th {\n",
       "        vertical-align: top;\n",
       "    }\n",
       "\n",
       "    .dataframe thead th {\n",
       "        text-align: right;\n",
       "    }\n",
       "</style>\n",
       "<table border=\"1\" class=\"dataframe\">\n",
       "  <thead>\n",
       "    <tr style=\"text-align: right;\">\n",
       "      <th></th>\n",
       "      <th>code</th>\n",
       "      <th>preval_original</th>\n",
       "      <th>preval_restored</th>\n",
       "    </tr>\n",
       "  </thead>\n",
       "  <tbody>\n",
       "    <tr>\n",
       "      <th>51</th>\n",
       "      <td>E87</td>\n",
       "      <td>0.206</td>\n",
       "      <td>0.218</td>\n",
       "    </tr>\n",
       "    <tr>\n",
       "      <th>120</th>\n",
       "      <td>R50</td>\n",
       "      <td>0.138</td>\n",
       "      <td>0.098</td>\n",
       "    </tr>\n",
       "    <tr>\n",
       "      <th>247</th>\n",
       "      <td>L21</td>\n",
       "      <td>0.050</td>\n",
       "      <td>0.046</td>\n",
       "    </tr>\n",
       "  </tbody>\n",
       "</table>\n",
       "</div>"
      ],
      "text/plain": [
       "    code  preval_original  preval_restored\n",
       "51   E87            0.206            0.218\n",
       "120  R50            0.138            0.098\n",
       "247  L21            0.050            0.046"
      ]
     },
     "execution_count": 24,
     "metadata": {},
     "output_type": "execute_result"
    }
   ],
   "source": [
    "CODE_PREVALS.sample(3)"
   ]
  },
  {
   "cell_type": "code",
   "execution_count": 25,
   "id": "70a0e9f7-bda0-48eb-9aec-369a55727f15",
   "metadata": {},
   "outputs": [
    {
     "data": {
      "text/html": [
       "<div>\n",
       "<style scoped>\n",
       "    .dataframe tbody tr th:only-of-type {\n",
       "        vertical-align: middle;\n",
       "    }\n",
       "\n",
       "    .dataframe tbody tr th {\n",
       "        vertical-align: top;\n",
       "    }\n",
       "\n",
       "    .dataframe thead th {\n",
       "        text-align: right;\n",
       "    }\n",
       "</style>\n",
       "<table border=\"1\" class=\"dataframe\">\n",
       "  <thead>\n",
       "    <tr style=\"text-align: right;\">\n",
       "      <th></th>\n",
       "      <th>code</th>\n",
       "      <th>Condition</th>\n",
       "      <th>Prevalence</th>\n",
       "    </tr>\n",
       "  </thead>\n",
       "  <tbody>\n",
       "    <tr>\n",
       "      <th>0</th>\n",
       "      <td>E78</td>\n",
       "      <td>preval_original</td>\n",
       "      <td>0.712</td>\n",
       "    </tr>\n",
       "    <tr>\n",
       "      <th>1</th>\n",
       "      <td>I10</td>\n",
       "      <td>preval_original</td>\n",
       "      <td>0.658</td>\n",
       "    </tr>\n",
       "    <tr>\n",
       "      <th>2</th>\n",
       "      <td>Z12</td>\n",
       "      <td>preval_original</td>\n",
       "      <td>0.592</td>\n",
       "    </tr>\n",
       "    <tr>\n",
       "      <th>3</th>\n",
       "      <td>Z23</td>\n",
       "      <td>preval_original</td>\n",
       "      <td>0.542</td>\n",
       "    </tr>\n",
       "    <tr>\n",
       "      <th>4</th>\n",
       "      <td>M25</td>\n",
       "      <td>preval_original</td>\n",
       "      <td>0.584</td>\n",
       "    </tr>\n",
       "    <tr>\n",
       "      <th>...</th>\n",
       "      <td>...</td>\n",
       "      <td>...</td>\n",
       "      <td>...</td>\n",
       "    </tr>\n",
       "    <tr>\n",
       "      <th>95</th>\n",
       "      <td>I49</td>\n",
       "      <td>preval_restored</td>\n",
       "      <td>0.218</td>\n",
       "    </tr>\n",
       "    <tr>\n",
       "      <th>96</th>\n",
       "      <td>R00</td>\n",
       "      <td>preval_restored</td>\n",
       "      <td>0.154</td>\n",
       "    </tr>\n",
       "    <tr>\n",
       "      <th>97</th>\n",
       "      <td>E03</td>\n",
       "      <td>preval_restored</td>\n",
       "      <td>0.186</td>\n",
       "    </tr>\n",
       "    <tr>\n",
       "      <th>98</th>\n",
       "      <td>R42</td>\n",
       "      <td>preval_restored</td>\n",
       "      <td>0.256</td>\n",
       "    </tr>\n",
       "    <tr>\n",
       "      <th>99</th>\n",
       "      <td>M17</td>\n",
       "      <td>preval_restored</td>\n",
       "      <td>0.208</td>\n",
       "    </tr>\n",
       "  </tbody>\n",
       "</table>\n",
       "<p>100 rows × 3 columns</p>\n",
       "</div>"
      ],
      "text/plain": [
       "   code        Condition  Prevalence\n",
       "0   E78  preval_original       0.712\n",
       "1   I10  preval_original       0.658\n",
       "2   Z12  preval_original       0.592\n",
       "3   Z23  preval_original       0.542\n",
       "4   M25  preval_original       0.584\n",
       "..  ...              ...         ...\n",
       "95  I49  preval_restored       0.218\n",
       "96  R00  preval_restored       0.154\n",
       "97  E03  preval_restored       0.186\n",
       "98  R42  preval_restored       0.256\n",
       "99  M17  preval_restored       0.208\n",
       "\n",
       "[100 rows x 3 columns]"
      ]
     },
     "execution_count": 25,
     "metadata": {},
     "output_type": "execute_result"
    }
   ],
   "source": [
    "df_melted = CODE_PREVALS.head(N_TOP_TO_PLOT).melt(\n",
    "    id_vars='code', \n",
    "    value_vars=['preval_original', 'preval_restored'],\n",
    "    var_name='Condition', value_name='Prevalence'\n",
    ")\n",
    "df_melted"
   ]
  },
  {
   "cell_type": "code",
   "execution_count": 26,
   "id": "70d4579b-6ab4-4333-9d35-bd3bb548763a",
   "metadata": {},
   "outputs": [
    {
     "data": {
      "image/png": "[encoded data removed]",
      "text/plain": [
       "<Figure size 432x720 with 1 Axes>"
      ]
     },
     "metadata": {
      "needs_background": "light"
     },
     "output_type": "display_data"
    }
   ],
   "source": [
    "N_TOP_TO_PLOT = 50\n",
    "FIGSIZE = (6,10)\n",
    "\n",
    "\n",
    "plot_rename = {\n",
    "    'preval_original': 'Original',\n",
    "    'preval_restored': 'Restored'\n",
    "}\n",
    "\n",
    "\n",
    "df_melted = CODE_PREVALS.rename(columns = plot_rename).head(N_TOP_TO_PLOT).melt(\n",
    "    id_vars='code', \n",
    "    value_vars=['Original', 'Restored'],\n",
    "    var_name='Data source', value_name='Prevalence'\n",
    ")\n",
    "\n",
    "# Plot\n",
    "plt.figure(figsize=FIGSIZE)\n",
    "sns.barplot(data=df_melted, \n",
    "            y='code', x='Prevalence', \n",
    "            hue='Data source')\n",
    "\n",
    "# Add labels and title\n",
    "plt.ylabel('Code')\n",
    "plt.xlabel('Prevalence')\n",
    "plt.title(f'Code Prevalences')\n",
    "plt.legend()\n",
    "\n",
    "# Show the plot\n",
    "plt.savefig(\n",
    "    f\"{TASK_PLOTS_FOLDER}/CODE_PREVALENCES.png\", \n",
    "    bbox_inches = \"tight\", dpi = 300\n",
    ")\n",
    "plt.show()"
   ]
  },
  {
   "cell_type": "markdown",
   "id": "ae605fc7-4b82-48e0-88d3-32a20d997b30",
   "metadata": {},
   "source": [
    "# **Task 3**"
   ]
  },
  {
   "cell_type": "code",
   "execution_count": 27,
   "id": "b29c096a-5751-4367-a759-f743b3457e43",
   "metadata": {},
   "outputs": [],
   "source": [
    "TASK_FOLDER = \"TASK_ASSETS/TASK3\"\n",
    "TASK_PLOTS_FOLDER = f\"{F}/TASK3\"\n",
    "os.makedirs(TASK_PLOTS_FOLDER, exist_ok = True)"
   ]
  },
  {
   "cell_type": "code",
   "execution_count": 30,
   "id": "80a3c0fa-93f4-432d-8b73-4acd3af3a67a",
   "metadata": {},
   "outputs": [],
   "source": [
    "with open(\n",
    "    f\"{TASK_FOLDER}/BASE_CURVES.pkl\", \n",
    "    \"rb\") as f:\n",
    "    CURVES = pickle.load(f)\n",
    "\n",
    "CURVE_CONCATENATION = pd.concat([\n",
    "    CURVE[['fpr', 'tpr', 'threshold']] for CURVE in CURVES.values()\n",
    "])\n",
    "\n",
    "CURVE_CONCATENATION = pd.concat([CURVE[['fpr', 'tpr', 'threshold']] for CURVE in CURVES.values()])"
   ]
  },
  {
   "cell_type": "code",
   "execution_count": 43,
   "id": "1b6e70b7-a764-445a-af6b-6ae4b068bce5",
   "metadata": {},
   "outputs": [
    {
     "data": {
      "image/png": "[encoded data removed]",
      "text/plain": [
       "<Figure size 360x360 with 1 Axes>"
      ]
     },
     "metadata": {
      "needs_background": "light"
     },
     "output_type": "display_data"
    },
    {
     "name": "stdout",
     "output_type": "stream",
     "text": [
      "AUC:\n",
      "(0.7769543393782383, 0.792938521242865, 0.7609701575136116)\n"
     ]
    },
    {
     "data": {
      "image/png": "[encoded data removed]",
      "text/plain": [
       "<Figure size 360x360 with 1 Axes>"
      ]
     },
     "metadata": {
      "needs_background": "light"
     },
     "output_type": "display_data"
    }
   ],
   "source": [
    "PATIENT_NUMBERS = {\n",
    "    \"total\": 1580,\n",
    "    \"positive\": 1544\n",
    "}\n",
    "\n",
    "zt=zedstat.processRoc(\n",
    "    df = CURVE_CONCATENATION,\n",
    "    order=3,\n",
    "    total_samples = PATIENT_NUMBERS['total'],\n",
    "    positive_samples = PATIENT_NUMBERS['positive'],\n",
    "    alpha=0.05,\n",
    "    prevalence = 0.75\n",
    ")\n",
    "\n",
    "zt.smooth(STEP=0.001)\n",
    "zt.allmeasures(interpolate=True)\n",
    "zt.usample(precision=3)\n",
    "zt.getBounds()\n",
    "\n",
    "plt.figure(figsize=[5,5])\n",
    "ax=plt.gca()\n",
    "ax=zt.get().tpr.plot(ax=ax)\n",
    "plt.fill_between(x=zt.get().index, y1=zt.df_lim['U'].tpr,y2=zt.df_lim['L'].tpr, color='r',alpha=.2)\n",
    "ax.set_xlim(0,1)\n",
    "ax.set_ylim(0,1)\n",
    "ax.set_ylabel('tpr')\n",
    "plt.savefig(\n",
    "    f\"{TASK_PLOTS_FOLDER}/ROC.png\",\n",
    "    bbox_inches = \"tight\", dpi = 300\n",
    ")\n",
    "plt.show()\n",
    "\n",
    "print(\"AUC:\")\n",
    "print(zt.auc())\n",
    "\n",
    "zf=zt.get()\n",
    "zfu=zt.df_lim['U']\n",
    "zfl=zt.df_lim['L']\n",
    "plt.figure(figsize=[5,5])\n",
    "ax=plt.gca()\n",
    "ax=(0.5*(zfu+zfl)).plot(\n",
    "    ax=ax,\n",
    "    x='LR-',\n",
    "    y='LR+'\n",
    ")\n",
    "zfu.plot(ax=ax,x='LR-',y='LR+',style='--k')\n",
    "zfl.plot(ax=ax,x='LR-',y='LR+',style='--k')\n",
    "ax.set_xlim(None, 0.8)\n",
    "plt.savefig(\n",
    "    f\"{TASK_PLOTS_FOLDER}/LR.png\",\n",
    "    bbox_inches = \"tight\", dpi = 300\n",
    ")\n",
    "plt.show()"
   ]
  },
  {
   "cell_type": "code",
   "execution_count": null,
   "id": "a72691ef-14f7-4591-b11d-7c3973d69faf",
   "metadata": {},
   "outputs": [],
   "source": []
  }
 ],
 "metadata": {
  "kernelspec": {
   "display_name": "Ariadne",
   "language": "python",
   "name": "ariadne"
  },
  "language_info": {
   "codemirror_mode": {
    "name": "ipython",
    "version": 3
   },
   "file_extension": ".py",
   "mimetype": "text/x-python",
   "name": "python",
   "nbconvert_exporter": "python",
   "pygments_lexer": "ipython3",
   "version": "3.9.16"
  }
 },
 "nbformat": 4,
 "nbformat_minor": 5
}
