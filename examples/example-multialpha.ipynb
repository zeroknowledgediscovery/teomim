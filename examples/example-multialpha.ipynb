{
 "cells": [
  {
   "cell_type": "code",
   "execution_count": 1,
   "id": "8e2d6dda",
   "metadata": {},
   "outputs": [],
   "source": [
    "from teomim import teomim"
   ]
  },
  {
   "cell_type": "code",
   "execution_count": 9,
   "id": "54d3d805",
   "metadata": {},
   "outputs": [],
   "source": [
    "ALPHA={ 1.1: 0.0087,\n",
    " 1.2: 0.175,\n",
    " 1.3: 0.26,\n",
    " 1.4: 0.25,\n",
    " 1.6: 0.21,\n",
    " 1.8: 0.088}\n",
    "ALPHA={1:1}\n",
    "P=teomim(modelpath='./twin_models/FULL_QNET.joblib',alpha=D,\n",
    "                 gz=False,outfile='out100.csv',num_patients=50)\n",
    "\n",
    "#P.load('./twin_data/output.csv')"
   ]
  },
  {
   "cell_type": "code",
   "execution_count": null,
   "id": "263c841c",
   "metadata": {},
   "outputs": [
    {
     "name": "stderr",
     "output_type": "stream",
     "text": [
      " 84%|████████████████████████████████████       | 42/50 [02:51<00:16,  2.02s/it]"
     ]
    }
   ],
   "source": [
    "%%time\n",
    "P.generate()"
   ]
  },
  {
   "cell_type": "code",
   "execution_count": 4,
   "id": "ef8df5cb",
   "metadata": {},
   "outputs": [
    {
     "name": "stdout",
     "output_type": "stream",
     "text": [
      "     prevalences prevalence_expected\n",
      "I10         0.44                 0.7\n",
      "I25         0.24                 0.4\n",
      "I50         0.22                0.25\n",
      "E11         0.46                0.46\n",
      "E66         0.30                 0.3\n",
      "I63         0.12                 0.4\n",
      "G20         0.00                0.15\n",
      "F32         0.16                 0.5\n",
      "F41         0.18                 0.4\n",
      "M81         0.04                0.25\n",
      "J44         0.24                0.55\n",
      "J84         0.00               0.005\n"
     ]
    }
   ],
   "source": [
    "ef=P.evaluate()\n",
    "print(ef)"
   ]
  },
  {
   "cell_type": "code",
   "execution_count": 5,
   "id": "e7ac653e",
   "metadata": {},
   "outputs": [
    {
     "name": "stdout",
     "output_type": "stream",
     "text": [
      "95.56\n"
     ]
    }
   ],
   "source": [
    "print(P.quality())"
   ]
  },
  {
   "cell_type": "code",
   "execution_count": 6,
   "id": "a272edbc",
   "metadata": {},
   "outputs": [
    {
     "data": {
      "text/plain": [
       "<AxesSubplot:>"
      ]
     },
     "execution_count": 6,
     "metadata": {},
     "output_type": "execute_result"
    },
    {
     "data": {
      "image/png": "[encoded data removed]",
      "text/plain": [
       "<Figure size 432x288 with 1 Axes>"
      ]
     },
     "metadata": {
      "needs_background": "light"
     },
     "output_type": "display_data"
    }
   ],
   "source": [
    "ef.plot(kind='bar')"
   ]
  },
  {
   "cell_type": "code",
   "execution_count": 7,
   "id": "e212985e",
   "metadata": {},
   "outputs": [],
   "source": [
    "def select_key_by_probability(prob_dict):\n",
    "    \"\"\"\n",
    "    Select a key from a dictionary where the keys are the items to be selected\n",
    "    and the values are the probabilities of each key.\n",
    "    \"\"\"\n",
    "    # Normalize the probabilities to ensure they sum up to 1\n",
    "    total = sum(prob_dict.values())\n",
    "    normalized_probs = {k: v / total for k, v in prob_dict.items()}\n",
    "\n",
    "    # Randomly select a key based on the probabilities\n",
    "    return random.choices(list(normalized_probs.keys()), weights=normalized_probs.values(), k=1)[0]\n"
   ]
  },
  {
   "cell_type": "code",
   "execution_count": 8,
   "id": "747c3954",
   "metadata": {},
   "outputs": [
    {
     "data": {
      "text/plain": [
       "1.3"
      ]
     },
     "execution_count": 8,
     "metadata": {},
     "output_type": "execute_result"
    }
   ],
   "source": [
    "import random\n",
    "select_key_by_probability({1.3:1})"
   ]
  },
  {
   "cell_type": "code",
   "execution_count": null,
   "id": "c3c9eaec",
   "metadata": {},
   "outputs": [],
   "source": []
  }
 ],
 "metadata": {
  "kernelspec": {
   "display_name": "Python 3 (ipykernel)",
   "language": "python",
   "name": "python3"
  },
  "language_info": {
   "codemirror_mode": {
    "name": "ipython",
    "version": 3
   },
   "file_extension": ".py",
   "mimetype": "text/x-python",
   "name": "python",
   "nbconvert_exporter": "python",
   "pygments_lexer": "ipython3",
   "version": "3.10.8"
  }
 },
 "nbformat": 4,
 "nbformat_minor": 5
}
