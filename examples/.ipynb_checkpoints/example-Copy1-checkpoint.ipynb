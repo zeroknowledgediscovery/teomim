{
 "cells": [
  {
   "cell_type": "code",
   "execution_count": 5,
   "id": "54d3d805",
   "metadata": {},
   "outputs": [],
   "source": [
    "from teomim import teomim\n",
    "P=teomim(modelpath='./twin_models/FULL_QNET.joblib',\n",
    "                 gz=False,outfile='out100.csv',num_patients=500)\n",
    "\n",
    "P.load('./twin_data/output.csv')"
   ]
  },
  {
   "cell_type": "code",
   "execution_count": 6,
   "id": "263c841c",
   "metadata": {},
   "outputs": [
    {
     "name": "stderr",
     "output_type": "stream",
     "text": [
      "100%|█████████████████████████████████████████| 500/500 [33:56<00:00,  4.07s/it]\n"
     ]
    },
    {
     "name": "stdout",
     "output_type": "stream",
     "text": [
      "CPU times: user 50.5 s, sys: 7.78 s, total: 58.3 s\n",
      "Wall time: 34min 42s\n"
     ]
    }
   ],
   "source": [
    "%%time\n",
    "P.generate()"
   ]
  },
  {
   "cell_type": "code",
   "execution_count": 7,
   "id": "ef8df5cb",
   "metadata": {},
   "outputs": [
    {
     "name": "stdout",
     "output_type": "stream",
     "text": [
      "     prevalences prevalence_expected\n",
      "I10        0.560                 0.7\n",
      "I25        0.494                 0.4\n",
      "I50        0.186                0.25\n",
      "E11        0.582                0.46\n",
      "E66        0.164                 0.3\n",
      "I63        0.142                 0.4\n",
      "G20        0.000                0.15\n",
      "F32        0.242                 0.5\n",
      "F41        0.274                 0.4\n",
      "M81        0.066                0.25\n",
      "J44        0.308                0.55\n",
      "J84        0.000               0.005\n"
     ]
    }
   ],
   "source": [
    "ef=P.evaluate()\n",
    "print(ef)"
   ]
  },
  {
   "cell_type": "code",
   "execution_count": 8,
   "id": "e7ac653e",
   "metadata": {},
   "outputs": [
    {
     "name": "stdout",
     "output_type": "stream",
     "text": [
      "95.96\n"
     ]
    }
   ],
   "source": [
    "print(P.quality())"
   ]
  },
  {
   "cell_type": "code",
   "execution_count": 10,
   "id": "a272edbc",
   "metadata": {},
   "outputs": [
    {
     "data": {
      "text/plain": [
       "<AxesSubplot:>"
      ]
     },
     "execution_count": 10,
     "metadata": {},
     "output_type": "execute_result"
    },
    {
     "data": {
      "image/png": "[encoded data removed]",
      "text/plain": [
       "<Figure size 432x288 with 1 Axes>"
      ]
     },
     "metadata": {
      "needs_background": "light"
     },
     "output_type": "display_data"
    }
   ],
   "source": [
    "ef.plot(kind='bar')"
   ]
  },
  {
   "cell_type": "code",
   "execution_count": null,
   "id": "e212985e",
   "metadata": {},
   "outputs": [],
   "source": []
  }
 ],
 "metadata": {
  "kernelspec": {
   "display_name": "Python 3 (ipykernel)",
   "language": "python",
   "name": "python3"
  },
  "language_info": {
   "codemirror_mode": {
    "name": "ipython",
    "version": 3
   },
   "file_extension": ".py",
   "mimetype": "text/x-python",
   "name": "python",
   "nbconvert_exporter": "python",
   "pygments_lexer": "ipython3",
   "version": "3.10.8"
  }
 },
 "nbformat": 4,
 "nbformat_minor": 5
}
